{
 "cells": [
  {
   "cell_type": "markdown",
   "metadata": {},
   "source": [
    "# Assemble Program"
   ]
  },
  {
   "cell_type": "code",
   "execution_count": 1,
   "metadata": {},
   "outputs": [],
   "source": [
    "var x86Assembler = require(\"../build/x86Assembler/src/assembler\")"
   ]
  },
  {
   "cell_type": "code",
   "execution_count": 2,
   "metadata": {},
   "outputs": [],
   "source": [
    "// Create Assembler object\n",
    "var assembler = new x86Assembler.Assembler();"
   ]
  },
  {
   "cell_type": "code",
   "execution_count": 3,
   "metadata": {},
   "outputs": [],
   "source": [
    "// Define code to be compiled\n",
    "var code = `\n",
    "    mov $0x20,%ax\n",
    "    mov $0xa,%bx\n",
    "    add %bx,%ax\n",
    "    and $0xff00,%ax\n",
    "    xor %bx,%bx\n",
    "    inc %bx\n",
    "`"
   ]
  },
  {
   "cell_type": "code",
   "execution_count": 4,
   "metadata": {},
   "outputs": [
    {
     "name": "stdout",
     "output_type": "stream",
     "text": [
      "Addr\t\t\tMachine Code\t\t\tAssembly\n",
      "--------------------------------------------------------------------------------\n",
      "0:\t\t\t66 b8 20 00                   mov  $0x20,%ax\n",
      "4:\t\t\t66 bb 0a 00                   mov  $0xa,%bx\n",
      "8:\t\t\t66 01 d8                      add  %bx,%ax\n",
      "b:\t\t\t66 25 00 ff                   and  $0xff00,%ax\n",
      "f:\t\t\t66 31 db                      xor  %bx,%bx\n",
      "12:\t\t\t66 43                         inc  %bx\n",
      "\n"
     ]
    }
   ],
   "source": [
    "// Assemble this code \n",
    "var assembled = assembler.assembleProgram(code);\n",
    "\n",
    "// Print out the assembled code in tabular manner\n",
    "console.log(assembled.toString())"
   ]
  },
  {
   "cell_type": "code",
   "execution_count": 5,
   "metadata": {},
   "outputs": [
    {
     "name": "stdout",
     "output_type": "stream",
     "text": [
      "Uint8Array [\n",
      "  102, 184,  32,   0, 102, 187,\n",
      "   10,   0, 102,   1, 216, 102,\n",
      "   37,   0, 255, 102,  49, 219,\n",
      "  102,  67\n",
      "]\n"
     ]
    }
   ],
   "source": [
    "// Get machine code \n",
    "var machineCode = assembled.getMachineCode()\n",
    "console.log(machineCode)"
   ]
  },
  {
   "cell_type": "code",
   "execution_count": 6,
   "metadata": {},
   "outputs": [
    {
     "name": "stdout",
     "output_type": "stream",
     "text": [
      "{\n",
      "  program: '\\n' +\n",
      "    '    mov $0x20,%ax\\n' +\n",
      "    '    mov $0xa,%bx\\n' +\n",
      "    '    add %bx,%ax\\n' +\n",
      "    '    and $0xff00,%ax\\n' +\n",
      "    '    xor %bx,%bx\\n' +\n",
      "    '    inc %bx\\n',\n",
      "  line_nums: [ 2, 3, 4, 5, 6, 7 ],\n",
      "  symbol_table: {},\n",
      "  reverse_symbol_table: {},\n",
      "  instruction_start_addr: [ 0, 4, 8, 11, 15, 18 ],\n",
      "  instruction_lengths: [ 4, 4, 3, 4, 3, 2 ],\n",
      "  addr_instruction_map: { '0': 0, '4': 1, '8': 2, '11': 3, '15': 4, '18': 5 }\n",
      "}\n"
     ]
    }
   ],
   "source": [
    "// Get metadat to be used for Debugging in PC\n",
    "var metadata = assembled.genMetadata()\n",
    "console.log(metadata)"
   ]
  },
  {
   "cell_type": "markdown",
   "metadata": {},
   "source": [
    "# Load Code in PC"
   ]
  },
  {
   "cell_type": "code",
   "execution_count": 21,
   "metadata": {},
   "outputs": [],
   "source": [
    "var PC = require(\"../build/x86PC/src/pc\")"
   ]
  },
  {
   "cell_type": "code",
   "execution_count": 25,
   "metadata": {},
   "outputs": [],
   "source": [
    "// Create PC with 256 Bytes of memory\n",
    "var pc = new PC.PC(256)\n",
    "\n",
    "// Some utility functions\n",
    "function showIP(pc) {\n",
    "    console.log(\"Instruction Pointer : 0x\" +pc.cpu.getInstructionPointer().toString(16))\n",
    "}\n",
    "function showRegister(pc, reg) {\n",
    "    console.log(\"Register \"+ reg + \" : \" +pc.cpu.registers[reg].getHexadecimalBytes().join(\" \"))\n",
    "}"
   ]
  },
  {
   "cell_type": "code",
   "execution_count": 26,
   "metadata": {},
   "outputs": [
    {
     "name": "stdout",
     "output_type": "stream",
     "text": [
      "Instruction Pointer : 0x0\n"
     ]
    }
   ],
   "source": [
    "// Load the Machine code in PC starting at address 0\n",
    "pc.loadAssembledProgram(machineCode, 0)\n",
    "showIP(pc)"
   ]
  },
  {
   "cell_type": "code",
   "execution_count": 27,
   "metadata": {},
   "outputs": [
    {
     "name": "stdout",
     "output_type": "stream",
     "text": [
      "mov $0x20, %ax\n",
      "Instruction Pointer : 0x4\n",
      "Register eax : 0 0 0 20\n"
     ]
    }
   ],
   "source": [
    "// Execute the next instruction\n",
    "pc.executeNextInstruction()\n",
    "showIP(pc)\n",
    "showRegister(pc, \"eax\")"
   ]
  },
  {
   "cell_type": "code",
   "execution_count": 28,
   "metadata": {},
   "outputs": [
    {
     "name": "stdout",
     "output_type": "stream",
     "text": [
      "mov $0xa, %bx\n",
      "Instruction Pointer : 0x8\n",
      "Register ebx : 0 0 0 a\n"
     ]
    }
   ],
   "source": [
    "// Execute the next instruction\n",
    "pc.executeNextInstruction()\n",
    "showIP(pc)\n",
    "showRegister(pc, \"ebx\")"
   ]
  },
  {
   "cell_type": "code",
   "execution_count": 29,
   "metadata": {},
   "outputs": [
    {
     "name": "stdout",
     "output_type": "stream",
     "text": [
      "add %bx, %ax\n",
      "Instruction Pointer : 0xb\n",
      "Register eax : 0 0 0 2a\n",
      "Register ebx : 0 0 0 a\n"
     ]
    }
   ],
   "source": [
    "// Execute the next instruction\n",
    "pc.executeNextInstruction()\n",
    "showIP(pc)\n",
    "showRegister(pc, \"eax\")\n",
    "showRegister(pc, \"ebx\")"
   ]
  },
  {
   "cell_type": "code",
   "execution_count": 30,
   "metadata": {},
   "outputs": [
    {
     "name": "stdout",
     "output_type": "stream",
     "text": [
      "and $0xff00, %ax\n",
      "Instruction Pointer : 0xf\n",
      "Register eax : 0 0 0 0\n"
     ]
    }
   ],
   "source": [
    "// Execute the next instruction\n",
    "pc.executeNextInstruction()\n",
    "showIP(pc)\n",
    "showRegister(pc, \"eax\")"
   ]
  },
  {
   "cell_type": "code",
   "execution_count": 31,
   "metadata": {},
   "outputs": [
    {
     "name": "stdout",
     "output_type": "stream",
     "text": [
      "xor %bx, %bx\n",
      "Instruction Pointer : 0x12\n",
      "Register ebx : 0 0 0 0\n"
     ]
    }
   ],
   "source": [
    "// Execute the next instruction\n",
    "pc.executeNextInstruction()\n",
    "showIP(pc)\n",
    "showRegister(pc, \"ebx\")"
   ]
  },
  {
   "cell_type": "code",
   "execution_count": 32,
   "metadata": {},
   "outputs": [
    {
     "name": "stdout",
     "output_type": "stream",
     "text": [
      "inc %bx\n",
      "Instruction Pointer : 0x14\n",
      "Register ebx : 0 0 0 1\n"
     ]
    }
   ],
   "source": [
    "// Execute the next instruction\n",
    "pc.executeNextInstruction()\n",
    "showIP(pc)\n",
    "showRegister(pc, \"ebx\")"
   ]
  },
  {
   "cell_type": "code",
   "execution_count": 34,
   "metadata": {},
   "outputs": [
    {
     "data": {
      "text/plain": [
       "false"
      ]
     },
     "execution_count": 34,
     "metadata": {},
     "output_type": "execute_result"
    }
   ],
   "source": [
    "// No more instructions\n",
    "pc.executeNextInstruction()"
   ]
  },
  {
   "cell_type": "code",
   "execution_count": null,
   "metadata": {},
   "outputs": [],
   "source": []
  }
 ],
 "metadata": {
  "kernelspec": {
   "display_name": "Javascript (Node.js)",
   "language": "javascript",
   "name": "javascript"
  },
  "language_info": {
   "file_extension": ".js",
   "mimetype": "application/javascript",
   "name": "javascript",
   "version": "12.13.0"
  }
 },
 "nbformat": 4,
 "nbformat_minor": 4
}
