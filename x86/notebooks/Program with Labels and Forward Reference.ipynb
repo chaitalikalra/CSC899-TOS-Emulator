{
 "cells": [
  {
   "cell_type": "markdown",
   "metadata": {},
   "source": [
    "# Assemble Program"
   ]
  },
  {
   "cell_type": "code",
   "execution_count": 1,
   "metadata": {},
   "outputs": [],
   "source": [
    "var x86Assembler = require(\"../dist/x86Assembler/src/assembler\")"
   ]
  },
  {
   "cell_type": "code",
   "execution_count": 2,
   "metadata": {},
   "outputs": [],
   "source": [
    "// Create Assembler object\n",
    "var assembler = new x86Assembler.Assembler();"
   ]
  },
  {
   "cell_type": "code",
   "execution_count": 3,
   "metadata": {},
   "outputs": [],
   "source": [
    "// Define code to be compiled\n",
    "var code = `\n",
    "    mov $0x100,%esp\n",
    "    mov $0x1234,%ax\n",
    "    call L2\n",
    "L1: jmp L1 ; Infinite Loop\n",
    "L2: inc %ax\n",
    "    ret\n",
    "`"
   ]
  },
  {
   "cell_type": "code",
   "execution_count": 4,
   "metadata": {},
   "outputs": [
    {
     "name": "stdout",
     "output_type": "stream",
     "text": [
      "Addr\t\t\tMachine Code\t\t\tAssembly\n",
      "--------------------------------------------------------------------------------\n",
      "0:\t\t\tbc 00 01 00 00                mov  $0x100,%esp\n",
      "5:\t\t\t66 b8 34 12                   mov  $0x1234,%ax\n",
      "9:\t\t\te8 02 00 00 00                call  L2\n",
      "e:\t\t\teb fe                         L1: jmp  L1\n",
      "10:\t\t\t66 40                         L2: inc  %ax\n",
      "12:\t\t\tc3                            ret  \n",
      "\n"
     ]
    }
   ],
   "source": [
    "// Assemble this code \n",
    "var assembled = assembler.assembleProgram(code);\n",
    "\n",
    "// Print out the assembled code in tabular manner\n",
    "console.log(assembled.toString())"
   ]
  },
  {
   "cell_type": "code",
   "execution_count": 5,
   "metadata": {},
   "outputs": [
    {
     "name": "stdout",
     "output_type": "stream",
     "text": [
      "Uint8Array(19) [\n",
      "  188,   0,   1,  0,   0, 102, 184,\n",
      "   52,  18, 232,  2,   0,   0,   0,\n",
      "  235, 254, 102, 64, 195\n",
      "]\n"
     ]
    }
   ],
   "source": [
    "// Get machine code \n",
    "var machineCode = assembled.getMachineCode()\n",
    "console.log(machineCode)"
   ]
  },
  {
   "cell_type": "code",
   "execution_count": 6,
   "metadata": {},
   "outputs": [
    {
     "name": "stdout",
     "output_type": "stream",
     "text": [
      "{\n",
      "  program: '\\n' +\n",
      "    '    mov $0x100,%esp\\n' +\n",
      "    '    mov $0x1234,%ax\\n' +\n",
      "    '    call L2\\n' +\n",
      "    'L1: jmp L1 ; Infinite Loop\\n' +\n",
      "    'L2: inc %ax\\n' +\n",
      "    '    ret\\n',\n",
      "  line_nums: [ 2, 3, 4, 5, 6, 7 ],\n",
      "  symbol_table: { L1: 3, L2: 4 },\n",
      "  reverse_symbol_table: { '3': 'L1', '4': 'L2' },\n",
      "  instruction_start_addr: [ 0, 5, 9, 14, 16, 18 ],\n",
      "  instruction_lengths: [ 5, 4, 5, 2, 2, 1 ],\n",
      "  addr_instruction_map: { '0': 0, '5': 1, '9': 2, '14': 3, '16': 4, '18': 5 }\n",
      "}\n"
     ]
    }
   ],
   "source": [
    "// Get metadat to be used for Debugging in PC\n",
    "var metadata = assembled.genMetadata()\n",
    "console.log(metadata)"
   ]
  },
  {
   "cell_type": "markdown",
   "metadata": {},
   "source": [
    "# Load Code in PC"
   ]
  },
  {
   "cell_type": "code",
   "execution_count": 7,
   "metadata": {},
   "outputs": [],
   "source": [
    "var PC = require(\"../dist/x86PC/src/pc\")"
   ]
  },
  {
   "cell_type": "code",
   "execution_count": 8,
   "metadata": {},
   "outputs": [],
   "source": [
    "// Create PC with 256 Bytes of memory\n",
    "var pc = new PC.PC(256)\n",
    "\n",
    "// Some utility functions\n",
    "function showIP(pc) {\n",
    "    console.log(\"Instruction Pointer : 0x\" +pc.cpu.getInstructionPointer().toString(16));\n",
    "}\n",
    "function showRegister(pc, reg) {\n",
    "    console.log(\"Register \"+ reg + \" : \" +pc.cpu.registers[reg].getHexadecimalBytes().join(\" \"));\n",
    "}\n",
    "\n",
    "function showStack(pc) {\n",
    "    console.log(\"Stack: \" + pc.memory.getSlice(pc.cpu.registers[\"esp\"].getNumericValue()));\n",
    "}"
   ]
  },
  {
   "cell_type": "code",
   "execution_count": 9,
   "metadata": {},
   "outputs": [
    {
     "name": "stdout",
     "output_type": "stream",
     "text": [
      "Instruction Pointer : 0x0\n"
     ]
    }
   ],
   "source": [
    "// Load the Machine code in PC starting at address 0\n",
    "pc.loadAssembledProgram(machineCode, 0)\n",
    "showIP(pc)"
   ]
  },
  {
   "cell_type": "code",
   "execution_count": 10,
   "metadata": {},
   "outputs": [
    {
     "name": "stdout",
     "output_type": "stream",
     "text": [
      "mov $0x100, %esp\n",
      "Instruction Pointer : 0x5\n",
      "Register esp : 0 0 1 0\n"
     ]
    }
   ],
   "source": [
    "// Execute the next instruction\n",
    "pc.executeNextInstruction()\n",
    "showIP(pc)\n",
    "showRegister(pc, \"esp\")"
   ]
  },
  {
   "cell_type": "code",
   "execution_count": 11,
   "metadata": {},
   "outputs": [
    {
     "name": "stdout",
     "output_type": "stream",
     "text": [
      "mov $0x1234, %ax\n",
      "Instruction Pointer : 0x9\n",
      "Register eax : 0 0 12 34\n"
     ]
    }
   ],
   "source": [
    "// Execute the next instruction\n",
    "pc.executeNextInstruction()\n",
    "showIP(pc)\n",
    "showRegister(pc, \"eax\")"
   ]
  },
  {
   "cell_type": "code",
   "execution_count": 12,
   "metadata": {},
   "outputs": [
    {
     "name": "stdout",
     "output_type": "stream",
     "text": [
      "call 0x10\n",
      "Instruction Pointer : 0x10\n",
      "Register esp : 0 0 0 fc\n",
      "Stack: 14,0,0,0\n"
     ]
    }
   ],
   "source": [
    "// Execute the next instruction\n",
    "pc.executeNextInstruction()\n",
    "showIP(pc)\n",
    "showRegister(pc, \"esp\")\n",
    "showStack(pc)"
   ]
  },
  {
   "cell_type": "code",
   "execution_count": 13,
   "metadata": {},
   "outputs": [
    {
     "name": "stdout",
     "output_type": "stream",
     "text": [
      "inc %ax\n",
      "Instruction Pointer : 0x12\n",
      "Register ax : 12 35\n"
     ]
    }
   ],
   "source": [
    "// Execute the next instruction\n",
    "pc.executeNextInstruction()\n",
    "showIP(pc)\n",
    "showRegister(pc, \"ax\")"
   ]
  },
  {
   "cell_type": "code",
   "execution_count": 14,
   "metadata": {},
   "outputs": [
    {
     "name": "stdout",
     "output_type": "stream",
     "text": [
      "ret \n",
      "Instruction Pointer : 0xe\n",
      "Register esp : 0 0 1 0\n",
      "Stack: \n"
     ]
    }
   ],
   "source": [
    "// Execute the next instruction\n",
    "pc.executeNextInstruction()\n",
    "showIP(pc)\n",
    "showRegister(pc, \"esp\")\n",
    "showStack(pc)"
   ]
  },
  {
   "cell_type": "code",
   "execution_count": 15,
   "metadata": {},
   "outputs": [
    {
     "name": "stdout",
     "output_type": "stream",
     "text": [
      "jmp 0xe\n",
      "Instruction Pointer : 0xe\n"
     ]
    }
   ],
   "source": [
    "// Execute the next instruction\n",
    "pc.executeNextInstruction()\n",
    "showIP(pc)"
   ]
  },
  {
   "cell_type": "code",
   "execution_count": 16,
   "metadata": {},
   "outputs": [
    {
     "name": "stdout",
     "output_type": "stream",
     "text": [
      "jmp 0xe\n",
      "Instruction Pointer : 0xe\n"
     ]
    }
   ],
   "source": [
    "// Infinite Loop\n",
    "pc.executeNextInstruction()\n",
    "showIP(pc)"
   ]
  },
  {
   "cell_type": "code",
   "execution_count": null,
   "metadata": {},
   "outputs": [],
   "source": []
  }
 ],
 "metadata": {
  "kernelspec": {
   "display_name": "Javascript (Node.js)",
   "language": "javascript",
   "name": "javascript"
  },
  "language_info": {
   "file_extension": ".js",
   "mimetype": "application/javascript",
   "name": "javascript",
   "version": "14.11.0"
  }
 },
 "nbformat": 4,
 "nbformat_minor": 4
}
