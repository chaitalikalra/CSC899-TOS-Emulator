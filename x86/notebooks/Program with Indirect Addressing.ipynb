{
 "cells": [
  {
   "cell_type": "markdown",
   "metadata": {},
   "source": [
    "# Assemble Program"
   ]
  },
  {
   "cell_type": "code",
   "execution_count": 1,
   "metadata": {},
   "outputs": [],
   "source": [
    "var x86Assembler = require(\"../dist/x86Assembler/src/assembler\")"
   ]
  },
  {
   "cell_type": "code",
   "execution_count": 2,
   "metadata": {},
   "outputs": [],
   "source": [
    "// Create Assembler object\n",
    "var assembler = new x86Assembler.Assembler();"
   ]
  },
  {
   "cell_type": "code",
   "execution_count": 3,
   "metadata": {},
   "outputs": [],
   "source": [
    "// Define code to be compiled\n",
    "var code = `\n",
    "    mov $0xF0,%eax\n",
    "    mov $0x10,%bl\n",
    "    mov %bl,(%eax)\n",
    "`"
   ]
  },
  {
   "cell_type": "code",
   "execution_count": 4,
   "metadata": {},
   "outputs": [
    {
     "name": "stdout",
     "output_type": "stream",
     "text": [
      "Addr\t\t\tMachine Code\t\t\tAssembly\n",
      "--------------------------------------------------------------------------------\n",
      "0:\t\t\tb8 f0 00 00 00                mov  $0xf0,%eax\n",
      "5:\t\t\tb3 10                         mov  $0x10,%bl\n",
      "7:\t\t\t88 18                         mov  %bl,(%eax)\n",
      "\n"
     ]
    }
   ],
   "source": [
    "// Assemble this code \n",
    "var assembled = assembler.assembleProgram(code);\n",
    "\n",
    "// Print out the assembled code in tabular manner\n",
    "console.log(assembled.toString())"
   ]
  },
  {
   "cell_type": "code",
   "execution_count": 5,
   "metadata": {},
   "outputs": [
    {
     "name": "stdout",
     "output_type": "stream",
     "text": [
      "Uint8Array [\n",
      "  184, 240,   0,  0, 0,\n",
      "  179,  16, 136, 24\n",
      "]\n"
     ]
    }
   ],
   "source": [
    "// Get machine code \n",
    "var machineCode = assembled.getMachineCode()\n",
    "console.log(machineCode)"
   ]
  },
  {
   "cell_type": "code",
   "execution_count": 6,
   "metadata": {},
   "outputs": [
    {
     "name": "stdout",
     "output_type": "stream",
     "text": [
      "{\n",
      "  program: '\\n    mov $0xF0,%eax\\n    mov $0x10,%bl\\n    mov %bl,(%eax)\\n',\n",
      "  line_nums: [ 2, 3, 4 ],\n",
      "  symbol_table: {},\n",
      "  reverse_symbol_table: {},\n",
      "  instruction_start_addr: [ 0, 5, 7 ],\n",
      "  instruction_lengths: [ 5, 2, 2 ],\n",
      "  addr_instruction_map: { '0': 0, '5': 1, '7': 2 }\n",
      "}\n"
     ]
    }
   ],
   "source": [
    "// Get metadat to be used for Debugging in PC\n",
    "var metadata = assembled.genMetadata()\n",
    "console.log(metadata)"
   ]
  },
  {
   "cell_type": "markdown",
   "metadata": {},
   "source": [
    "# Load Code in PC"
   ]
  },
  {
   "cell_type": "code",
   "execution_count": 7,
   "metadata": {},
   "outputs": [],
   "source": [
    "var PC = require(\"../dist/x86PC/src/pc\")"
   ]
  },
  {
   "cell_type": "code",
   "execution_count": 14,
   "metadata": {},
   "outputs": [],
   "source": [
    "// Create PC with 256 Bytes of memory\n",
    "var pc = new PC.PC(256)\n",
    "\n",
    "// Some utility functions\n",
    "function showIP(pc) {\n",
    "    console.log(\"Instruction Pointer : 0x\" +pc.cpu.getInstructionPointer().toString(16));\n",
    "}\n",
    "function showRegister(pc, reg) {\n",
    "    console.log(\"Register \"+ reg + \" : \" +pc.cpu.registers[reg].getHexadecimalBytes().join(\" \"));\n",
    "}\n",
    "\n",
    "function showMemory(pc, position, size) {\n",
    "    console.log(\"Memory: \" + pc.memory.getSlice(position, size));\n",
    "}"
   ]
  },
  {
   "cell_type": "code",
   "execution_count": 15,
   "metadata": {},
   "outputs": [
    {
     "name": "stdout",
     "output_type": "stream",
     "text": [
      "Instruction Pointer : 0x0\n"
     ]
    }
   ],
   "source": [
    "// Load the Machine code in PC starting at address 0\n",
    "pc.loadAssembledProgram(machineCode, 0)\n",
    "showIP(pc)"
   ]
  },
  {
   "cell_type": "code",
   "execution_count": 16,
   "metadata": {},
   "outputs": [
    {
     "name": "stdout",
     "output_type": "stream",
     "text": [
      "mov $0xf0, %eax\n",
      "Instruction Pointer : 0x5\n",
      "Register eax : 0 0 0 f0\n"
     ]
    }
   ],
   "source": [
    "// Execute the next instruction\n",
    "pc.executeNextInstruction()\n",
    "showIP(pc)\n",
    "showRegister(pc, \"eax\")"
   ]
  },
  {
   "cell_type": "code",
   "execution_count": 17,
   "metadata": {},
   "outputs": [
    {
     "name": "stdout",
     "output_type": "stream",
     "text": [
      "mov $0x10, %bl\n",
      "Instruction Pointer : 0x7\n",
      "Register ebx : 0 0 0 10\n"
     ]
    }
   ],
   "source": [
    "// Execute the next instruction\n",
    "pc.executeNextInstruction()\n",
    "showIP(pc)\n",
    "showRegister(pc, \"ebx\")"
   ]
  },
  {
   "cell_type": "code",
   "execution_count": 18,
   "metadata": {},
   "outputs": [
    {
     "name": "stdout",
     "output_type": "stream",
     "text": [
      "mov %bl, 0(%eax)\n",
      "Instruction Pointer : 0x9\n",
      "Register ebx : 0 0 0 10\n",
      "Memory: 0,0,16,0,0,0\n"
     ]
    }
   ],
   "source": [
    "// Execute the next instruction\n",
    "pc.executeNextInstruction()\n",
    "showIP(pc)\n",
    "showRegister(pc, \"ebx\")\n",
    "showMemory(pc, 0xF0 - 2, 6)"
   ]
  },
  {
   "cell_type": "code",
   "execution_count": 19,
   "metadata": {},
   "outputs": [
    {
     "data": {
      "text/plain": [
       "false"
      ]
     },
     "execution_count": 19,
     "metadata": {},
     "output_type": "execute_result"
    }
   ],
   "source": [
    "// No more instructions\n",
    "pc.executeNextInstruction()"
   ]
  },
  {
   "cell_type": "code",
   "execution_count": null,
   "metadata": {},
   "outputs": [],
   "source": []
  }
 ],
 "metadata": {
  "kernelspec": {
   "display_name": "Javascript (Node.js)",
   "language": "javascript",
   "name": "javascript"
  },
  "language_info": {
   "file_extension": ".js",
   "mimetype": "application/javascript",
   "name": "javascript",
   "version": "14.11.0"
  }
 },
 "nbformat": 4,
 "nbformat_minor": 4
}
